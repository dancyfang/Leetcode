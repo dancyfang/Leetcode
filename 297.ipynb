{
 "cells": [
  {
   "cell_type": "code",
   "execution_count": 2,
   "metadata": {
    "collapsed": true
   },
   "outputs": [],
   "source": [
    "# Definition for a binary tree node.\n",
    "class TreeNode(object):\n",
    "    def __init__(self, x):\n",
    "        self.val = x\n",
    "        self.left = None\n",
    "        self.right = None\n",
    "\n",
    "class Codec:\n",
    "\n",
    "    def serialize(self, root):\n",
    "        \"\"\"Encodes a tree to a single string.\n",
    "        \n",
    "        :type root: TreeNode\n",
    "        :rtype: str\n",
    "        \"\"\"\n",
    "        if root is None:\n",
    "            return \"\"\n",
    "        else:\n",
    "            row = [root]\n",
    "            res = [root.val]\n",
    "            while row:\n",
    "                for i in range(len(row)):\n",
    "                    if row[0].left:\n",
    "                        row.append(row[0].left)\n",
    "                        res.append(row[0].left.val)\n",
    "                    else:\n",
    "                        res.append(None)\n",
    "                    if row[0].right:\n",
    "                        row.append(row[0].right)\n",
    "                        res.append(row[0].right.val)\n",
    "                    else:\n",
    "                        res.append(None)\n",
    "                    row.pop(0)\n",
    "            return str(res)\n",
    "        \n",
    "        \n",
    "\n",
    "    def deserialize(self, data):\n",
    "        \"\"\"Decodes your encoded data to tree.\n",
    "        \n",
    "        :type data: str\n",
    "        :rtype: TreeNode\n",
    "        \"\"\"\n",
    "        import ast\n",
    "        x = ast.literal_eval(data)\n",
    "        if not x:\n",
    "            return None\n",
    "        \n",
    "            \n",
    "\n",
    "# Your Codec object will be instantiated and called as such:\n",
    "# codec = Codec()\n",
    "# codec.deserialize(codec.serialize(root))"
   ]
  },
  {
   "cell_type": "code",
   "execution_count": 4,
   "metadata": {},
   "outputs": [],
   "source": [
    "p1 = TreeNode(1)\n",
    "p2 = TreeNode(2)\n",
    "p3 = TreeNode(3)\n",
    "p4 = TreeNode(4)\n",
    "p5 = TreeNode(5)\n",
    "p1.left = p2\n",
    "p1.right = p3\n",
    "p3.left = p4\n",
    "p3.right = p5"
   ]
  },
  {
   "cell_type": "code",
   "execution_count": 11,
   "metadata": {
    "collapsed": true
   },
   "outputs": [],
   "source": [
    "s = Codec().serialize(p1)"
   ]
  },
  {
   "cell_type": "code",
   "execution_count": 14,
   "metadata": {},
   "outputs": [
    {
     "data": {
      "text/plain": [
       "'[1, 2, 3, None, None, 4, 5, None, None, None, None]'"
      ]
     },
     "execution_count": 14,
     "metadata": {},
     "output_type": "execute_result"
    }
   ],
   "source": [
    "s"
   ]
  },
  {
   "cell_type": "code",
   "execution_count": 15,
   "metadata": {
    "collapsed": true
   },
   "outputs": [],
   "source": [
    "import ast\n",
    "x = ast.literal_eval(s)"
   ]
  },
  {
   "cell_type": "code",
   "execution_count": 16,
   "metadata": {},
   "outputs": [
    {
     "data": {
      "text/plain": [
       "[1, 2, 3, None, None, 4, 5, None, None, None, None]"
      ]
     },
     "execution_count": 16,
     "metadata": {},
     "output_type": "execute_result"
    }
   ],
   "source": [
    "x"
   ]
  },
  {
   "cell_type": "code",
   "execution_count": null,
   "metadata": {
    "collapsed": true
   },
   "outputs": [],
   "source": []
  }
 ],
 "metadata": {
  "kernelspec": {
   "display_name": "Python 3",
   "language": "python",
   "name": "python3"
  },
  "language_info": {
   "codemirror_mode": {
    "name": "ipython",
    "version": 3
   },
   "file_extension": ".py",
   "mimetype": "text/x-python",
   "name": "python",
   "nbconvert_exporter": "python",
   "pygments_lexer": "ipython3",
   "version": "3.6.1"
  }
 },
 "nbformat": 4,
 "nbformat_minor": 2
}
