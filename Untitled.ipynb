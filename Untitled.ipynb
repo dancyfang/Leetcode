{
 "cells": [
  {
   "cell_type": "code",
   "execution_count": null,
   "metadata": {
    "collapsed": true
   },
   "outputs": [],
   "source": [
    "class Solution:\n",
    "    def isMatch(self, s, p):\n",
    "        \"\"\"\n",
    "        :type s: str\n",
    "        :type p: str\n",
    "        :rtype: bool\n",
    "        \"\"\"\n",
    "        i,j = 0,0\n",
    "        while i < len(s) and j < len(p):\n",
    "            if j == len(p)-1 or p[j+1] != '*':\n",
    "                if p[j].isalpha():\n",
    "                    if s[i] = p[j]:\n",
    "                        i += 1\n",
    "                        j += 1\n",
    "                    else:\n",
    "                        return False\n",
    "                elif p[j] == '.':\n",
    "                    i += 1\n",
    "                    j += 1\n",
    "                else:\n",
    "                    return False\n",
    "            else:\n",
    "                # if p[j] is letter, p[j+1] is *\n",
    "                if p[j].isalpha():\n",
    "                    while s[i] == p[j]:\n",
    "                        i += 1\n",
    "                    j += 2\n",
    "                # if p[j:j+2] is '.*'          think of: s = 'dabcabd'     p = '.*abd'\n",
    "                elif p[j] == '.':\n",
    "                    if j+2 == len(p):\n",
    "                        return True\n",
    "                    j += 2\n",
    "                    while i < len(s):\n",
    "                        if s[i] == p[j] and self.isMatch(s[i:], p[j:]):\n",
    "                            return True\n",
    "                        i += 1\n",
    "                    return False\n",
    "                else:\n",
    "                    return False\n",
    "                            "
   ]
  }
 ],
 "metadata": {
  "kernelspec": {
   "display_name": "Python 3",
   "language": "python",
   "name": "python3"
  },
  "language_info": {
   "codemirror_mode": {
    "name": "ipython",
    "version": 3
   },
   "file_extension": ".py",
   "mimetype": "text/x-python",
   "name": "python",
   "nbconvert_exporter": "python",
   "pygments_lexer": "ipython3",
   "version": "3.6.1"
  }
 },
 "nbformat": 4,
 "nbformat_minor": 2
}
