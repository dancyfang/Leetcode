{
 "cells": [
  {
   "cell_type": "code",
   "execution_count": 14,
   "metadata": {
    "collapsed": true
   },
   "outputs": [],
   "source": [
    "import numpy as np\n",
    "# import pdb\n",
    "class Solution(object):\n",
    "    def countSmaller(self, nums):\n",
    "        \"\"\"\n",
    "        :type nums: List[int]\n",
    "        :rtype: List[int]\n",
    "        \"\"\"\n",
    "        def mergecount(count, left, right):\n",
    "            l,r = 0,0\n",
    "            seq = np.array([-1,-1])            \n",
    "            while l < left.shape[0] and r < right.shape[0]:\n",
    "#                 pdb.set_trace()\n",
    "                if right[r,0] < left[l,0]:\n",
    "                    seq = np.vstack((seq, right[r,:]))\n",
    "                    r += 1\n",
    "                    for i in range(l, left.shape[0]):\n",
    "                        count[left[i,1]] += 1\n",
    "                else:\n",
    "                    seq = np.vstack((seq, left[l,:]))\n",
    "                    l += 1\n",
    "            if l == len(left):\n",
    "                seq = np.vstack((seq, right[r,:]))\n",
    "            else:\n",
    "                seq = np.vstack((seq, left[l,:]))\n",
    "#             print('left: ', left, 'right: ', right, 'count: ', count)\n",
    "            return seq[1:,:]\n",
    "            \n",
    "        def mergesort(count, nums):\n",
    "            if nums.shape[0] == 0 or nums.shape[0] == 1:\n",
    "                return nums\n",
    "            m = nums.shape[0] // 2\n",
    "            left = mergesort(count, nums[:m,:])\n",
    "            right = mergesort(count, nums[m:,:])\n",
    "            return mergecount(count, left, right)\n",
    "        \n",
    "        count = [0 for i in nums]\n",
    "        nums = np.column_stack((np.array(nums), np.array(range(len(nums)))))\n",
    "        seq = mergesort(count, nums)\n",
    "        return count"
   ]
  },
  {
   "cell_type": "code",
   "execution_count": 18,
   "metadata": {},
   "outputs": [],
   "source": [
    "a = Solution().countSmaller([2,1,7,5,3,9,0,3,0,4])"
   ]
  },
  {
   "cell_type": "code",
   "execution_count": 19,
   "metadata": {},
   "outputs": [
    {
     "data": {
      "text/plain": [
       "[3, 2, 2, 1, 2, 4, 0, 1, 0, 0]"
      ]
     },
     "execution_count": 19,
     "metadata": {},
     "output_type": "execute_result"
    }
   ],
   "source": [
    "a"
   ]
  },
  {
   "cell_type": "code",
   "execution_count": null,
   "metadata": {
    "collapsed": true
   },
   "outputs": [],
   "source": []
  }
 ],
 "metadata": {
  "kernelspec": {
   "display_name": "Python 3",
   "language": "python",
   "name": "python3"
  },
  "language_info": {
   "codemirror_mode": {
    "name": "ipython",
    "version": 3
   },
   "file_extension": ".py",
   "mimetype": "text/x-python",
   "name": "python",
   "nbconvert_exporter": "python",
   "pygments_lexer": "ipython3",
   "version": "3.6.1"
  }
 },
 "nbformat": 4,
 "nbformat_minor": 2
}
