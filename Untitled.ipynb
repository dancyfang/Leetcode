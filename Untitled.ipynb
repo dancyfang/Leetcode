{
 "cells": [
  {
   "cell_type": "code",
   "execution_count": null,
   "metadata": {
    "collapsed": true
   },
   "outputs": [],
   "source": [
    "class Solution(object):\n",
    "    def searchRange(self, nums, target):\n",
    "        \"\"\"\n",
    "        :type nums: List[int]\n",
    "        :type target: int\n",
    "        :rtype: List[int]\n",
    "        \"\"\"\n",
    "        if target > nums[-1] or target < nums[0]:\n",
    "            return [-1,-1]\n",
    "        \n",
    "        if len(nums) == 0 ? 1\n",
    "        \n",
    "        if target == nums[0]:\n",
    "            l = 0\n",
    "        if target == nums[-1]:\n",
    "            l = len(nums)-1\n",
    "        \n",
    "        mid = int(len(nums)/2)\n",
    "        if target > nums[mid]:\n",
    "            return self.searchRange(nums[mid+1:], target)\n",
    "        elif target < nums[mid]:\n",
    "            return self.searchRange(nums[:mid], target)\n",
    "        else:\n",
    "            # nums[mid] == target\n",
    "            if nums[mid-1] < target:\n",
    "                l = mid\n",
    "            elif nums[0] == target:\n",
    "                l = 0\n",
    "            else:\n",
    "                l = "
   ]
  }
 ],
 "metadata": {
  "kernelspec": {
   "display_name": "Python 3",
   "language": "python",
   "name": "python3"
  },
  "language_info": {
   "codemirror_mode": {
    "name": "ipython",
    "version": 3
   },
   "file_extension": ".py",
   "mimetype": "text/x-python",
   "name": "python",
   "nbconvert_exporter": "python",
   "pygments_lexer": "ipython3",
   "version": "3.6.1"
  }
 },
 "nbformat": 4,
 "nbformat_minor": 2
}
