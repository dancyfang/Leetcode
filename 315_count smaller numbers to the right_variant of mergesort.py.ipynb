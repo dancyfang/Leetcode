{
 "cells": [
  {
   "cell_type": "code",
   "execution_count": 37,
   "metadata": {
    "collapsed": true
   },
   "outputs": [],
   "source": [
    "class Solution(object):\n",
    "    def countSmaller(self, nums):\n",
    "        \"\"\"\n",
    "        :type nums: List[int]\n",
    "        :rtype: List[int]\n",
    "        \"\"\"\n",
    "        def sort(enum):\n",
    "            half = int(len(enum) / 2)\n",
    "            # when half = 0 or 1, just return\n",
    "            if half:\n",
    "                # split\n",
    "                left = sort(enum[:half])\n",
    "                right = sort(enum[half:])\n",
    "                # combine\n",
    "                i,j = 0,0\n",
    "                m,n = len(left),len(right)\n",
    "                # note 'or'! very concise way of doing merge sort\n",
    "                while i < m or j < n:\n",
    "                    # if j == n, or the first time left < right\n",
    "                    if j == n or i < m and left[i][1] <= right[j][1]:\n",
    "                        # the number of elements smaller than left[i][0] is j\n",
    "                        smaller[left[i][0]] += j\n",
    "                        # append to list\n",
    "                        enum[i+j] = left[i]\n",
    "                        i += 1\n",
    "                    else:\n",
    "                        enum[i+j] = right[j]\n",
    "                        j += 1\n",
    "            return enum        \n",
    "                \n",
    "        smaller = [0]*len(nums)\n",
    "        sort(list(enumerate(nums)))\n",
    "        return smaller"
   ]
  },
  {
   "cell_type": "code",
   "execution_count": 38,
   "metadata": {},
   "outputs": [],
   "source": [
    "a = Solution().countSmaller([2,1,7,5,3,9,0,3,0,4])"
   ]
  },
  {
   "cell_type": "code",
   "execution_count": 39,
   "metadata": {},
   "outputs": [
    {
     "data": {
      "text/plain": [
       "[3, 2, 6, 5, 2, 4, 0, 1, 0, 0]"
      ]
     },
     "execution_count": 39,
     "metadata": {},
     "output_type": "execute_result"
    }
   ],
   "source": [
    "a"
   ]
  },
  {
   "cell_type": "code",
   "execution_count": null,
   "metadata": {
    "collapsed": true
   },
   "outputs": [],
   "source": []
  }
 ],
 "metadata": {
  "kernelspec": {
   "display_name": "Python 3",
   "language": "python",
   "name": "python3"
  },
  "language_info": {
   "codemirror_mode": {
    "name": "ipython",
    "version": 3
   },
   "file_extension": ".py",
   "mimetype": "text/x-python",
   "name": "python",
   "nbconvert_exporter": "python",
   "pygments_lexer": "ipython3",
   "version": "3.6.1"
  }
 },
 "nbformat": 4,
 "nbformat_minor": 2
}
