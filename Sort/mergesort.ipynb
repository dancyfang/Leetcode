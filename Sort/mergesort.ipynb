{
 "cells": [
  {
   "cell_type": "markdown",
   "metadata": {},
   "source": [
    "## merge sort top down method"
   ]
  },
  {
   "cell_type": "code",
   "execution_count": 2,
   "metadata": {
    "collapsed": true
   },
   "outputs": [],
   "source": [
    "def merge(l,r):\n",
    "    i,j = 0,0\n",
    "    s = []\n",
    "    while i < len(l) and j < len(r):\n",
    "        if l[i] <= r[j]:\n",
    "            s.append(l[i])\n",
    "            i += 1\n",
    "        else:\n",
    "            s.append(r[j])\n",
    "            j += 1\n",
    "    if i == len(l):\n",
    "        s += r[j:]\n",
    "    else:\n",
    "        s += l[i:]\n",
    "    return s"
   ]
  },
  {
   "cell_type": "code",
   "execution_count": 5,
   "metadata": {
    "collapsed": true
   },
   "outputs": [],
   "source": [
    "def mergesort_1(x):\n",
    "    if len(x) == 0 or len(x) == 1:\n",
    "        return x\n",
    "    mid = int(len(x)/2)\n",
    "    left = mergesort_1(x[:mid])\n",
    "    right = mergesort_1(x[mid:])\n",
    "    return merge(left, right)"
   ]
  },
  {
   "cell_type": "code",
   "execution_count": 12,
   "metadata": {},
   "outputs": [
    {
     "data": {
      "text/plain": [
       "[1, 2, 3, 4, 5, 6]"
      ]
     },
     "execution_count": 12,
     "metadata": {},
     "output_type": "execute_result"
    }
   ],
   "source": [
    "mergesort_1([2,1,3,5,6,4])"
   ]
  },
  {
   "cell_type": "markdown",
   "metadata": {},
   "source": [
    "## merge sort linked list"
   ]
  },
  {
   "cell_type": "code",
   "execution_count": 31,
   "metadata": {},
   "outputs": [],
   "source": [
    "# Definition for singly-linked list.\n",
    "class ListNode(object):\n",
    "    def __init__(self, x):\n",
    "        self.val = x\n",
    "        self.next = None\n",
    "\n",
    "class Solution(object):\n",
    "    # merge two sorted linked list\n",
    "    def mergeTwoLists(self, l1, l2):\n",
    "        \"\"\"\n",
    "        :type l1: ListNode\n",
    "        :type l2: ListNode\n",
    "        :rtype: ListNode\n",
    "        \"\"\"\n",
    "        p = ListNode(0)\n",
    "        p0 = p\n",
    "        while l1 != None and l2 != None:\n",
    "            if l1.val <= l2.val:\n",
    "                p.next = l1\n",
    "                l1 = l1.next\n",
    "            else:\n",
    "                p.next = l2\n",
    "                l2 = l2.next\n",
    "            p = p.next\n",
    "            p.next = None\n",
    "        p.next = l1 if l1 != None else l2  # concise form\n",
    "        return p0.next\n",
    "\n",
    "    # find the middle node of a linked list\n",
    "    # add a start node before the list\n",
    "    # e.g. N -> 1 -> 3 -> 5 -> 2 -> 4 -> N\n",
    "    # use two pointers, each time p1 move 1 step, p2 move 2 step\n",
    "    def findmid(self, head):\n",
    "        start = ListNode(0)\n",
    "        start.next = head\n",
    "        p1 = p2 = start\n",
    "        # if p2 is at the end, or p2 is at the last node, stop\n",
    "        while p2 != None and p2.next != None:\n",
    "            p1 = p1.next\n",
    "            p2 = p2.next.next\n",
    "        return p1\n",
    "        \n",
    "    # merge sort linked list\n",
    "    def sortList(self, head):\n",
    "        \"\"\"\n",
    "        :type head: ListNode\n",
    "        :rtype: ListNode\n",
    "        \"\"\"\n",
    "        if head == None or head.next == None:\n",
    "            return head\n",
    "        # find the mid node\n",
    "        mid = self.findmid(head)\n",
    "        # separatet the linked list\n",
    "        midnext = mid.next\n",
    "        mid.next = None\n",
    "        l1 = self.sortList(head)\n",
    "        l2 = self.sortList(midnext)\n",
    "        return self.mergeTwoLists(l1, l2)"
   ]
  },
  {
   "cell_type": "code",
   "execution_count": 45,
   "metadata": {
    "collapsed": true
   },
   "outputs": [],
   "source": [
    "a = ListNode(1)\n",
    "b = ListNode(4)\n",
    "c = ListNode(1)\n",
    "d = ListNode(5)\n",
    "e = ListNode(2)\n",
    "a.next = b\n",
    "b.next = c\n",
    "c.next = d\n",
    "d.next = e"
   ]
  },
  {
   "cell_type": "code",
   "execution_count": 46,
   "metadata": {},
   "outputs": [],
   "source": [
    "s = Solution().sortList(a)"
   ]
  },
  {
   "cell_type": "code",
   "execution_count": 51,
   "metadata": {},
   "outputs": [
    {
     "name": "stdout",
     "output_type": "stream",
     "text": [
      "5\n"
     ]
    }
   ],
   "source": [
    "print (s.val)\n",
    "s = s.next"
   ]
  }
 ],
 "metadata": {
  "kernelspec": {
   "display_name": "Python 3",
   "language": "python",
   "name": "python3"
  },
  "language_info": {
   "codemirror_mode": {
    "name": "ipython",
    "version": 3
   },
   "file_extension": ".py",
   "mimetype": "text/x-python",
   "name": "python",
   "nbconvert_exporter": "python",
   "pygments_lexer": "ipython3",
   "version": "3.6.1"
  }
 },
 "nbformat": 4,
 "nbformat_minor": 2
}
